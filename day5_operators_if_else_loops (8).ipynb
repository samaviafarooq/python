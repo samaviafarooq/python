{
  "cells": [
    {
      "cell_type": "markdown",
      "metadata": {},
      "source": [
        "# **If Conditions & Loops in Python**"
      ]
    },
    {
      "cell_type": "markdown",
      "metadata": {},
      "source": [
        "## **Python if statement**\n",
        "\n",
        "In control statements, The if statement is the simplest form. It takes a condition and evaluates to either True or False.\n",
        "\n",
        "If the condition is True, then the True block of code will be executed, and if the condition is False, then the block of code is skipped, and The controller moves to the next line."
      ]
    },
    {
      "cell_type": "markdown",
      "metadata": {},
      "source": [
        "### Syntax:\n",
        "\n",
        "```python\n",
        "if(condition):\n",
        "    statement 1\n",
        "    statement 2\n",
        "    statement n\n",
        "```\n",
        "\n",
        "* An **`if`** statement should be preceded by the keyword **`if`** and ended with a colon **`:`**. The condition of an if statement can be written with or without round brackets **`()`**.\n",
        "\n",
        "* In Python, the body of the **`if`** statement is indicated by the indentation. The body starts with an indentation and the first unindented line marks the end.\n",
        "\n",
        "* Python interprets non-zero values as **`True`**. **`None`** and **`0`** are interpreted as **`False`**."
      ]
    },
    {
      "cell_type": "markdown",
      "metadata": {},
      "source": [
        "### **IF statement**"
      ]
    },
    {
      "cell_type": "code",
      "execution_count": null,
      "metadata": {},
      "outputs": [],
      "source": [
        "# Example\n",
        "\n",
        "# Assume the student's grade\n",
        "student_score = 64\n",
        "\n",
        "# Check if the grade is equal to or higher than the passing threshold\n",
        "if student_score <= 65:\n",
        "    # If the condition is true, print a message indicating a passing grade\n",
        "    print(\"Students has scored passing grades\")"
      ]
    },
    {
      "cell_type": "code",
      "execution_count": null,
      "metadata": {},
      "outputs": [],
      "source": [
        "# Assume the student's grade\n",
        "student_score = 50\n",
        "\n",
        "# Check if the grade is equal to or higher than the passing threshold\n",
        "if student_score >= 65:\n",
        "    # If the condition is true, print a message indicating a passing grade\n",
        "    print(\"Students has scored passing grades\")"
      ]
    },
    {
      "cell_type": "code",
      "execution_count": null,
      "metadata": {},
      "outputs": [],
      "source": [
        "# Checking if a number is positive and printing an appropriate message\n",
        "\n",
        "# First example with a positive number\n",
        "positive_num = 3\n",
        "\n",
        "# Check if the number is greater than 0\n",
        "if positive_num > 0:\n",
        "    # If the condition is true, print a message indicating a positive number\n",
        "    print(positive_num, \"is a positive number.\")\n",
        "\n",
        "# Regardless of the condition, this line is always printed\n",
        "print(\"This is always printed.\")\n",
        "\n",
        "\n",
        "# Second example with a negative number\n",
        "negative_num = -1\n",
        "\n",
        "# Check if the number is greater than 0\n",
        "if negative_num < 0:\n",
        "    # Since the condition is false, this block is not executed\n",
        "    print(negative_num, \"is a negative number.\")\n",
        "\n",
        "# Regardless of the condition, this line is always printed\n",
        "print(\"This is also always printed.\")"
      ]
    },
    {
      "cell_type": "code",
      "execution_count": null,
      "metadata": {},
      "outputs": [],
      "source": [
        "# Calculating the square of a number if it is greater than 6\n",
        "\n",
        "# Assume the given number\n",
        "given_number = 9\n",
        "\n",
        "# Check if the number is greater than 6\n",
        "if given_number > 6:\n",
        "    # If the condition is true, calculate the square of the number\n",
        "    square_result = given_number * given_number\n",
        "    print(\"The square of\", given_number, \"is:\", square_result)\n",
        "\n",
        "# Regardless of the condition, this line is always printed\n",
        "print('Next lines of code')"
      ]
    },
    {
      "cell_type": "markdown",
      "metadata": {},
      "source": [
        "## **Shortcut for if statement (Short-hand if or one-line if)**"
      ]
    },
    {
      "cell_type": "code",
      "execution_count": null,
      "metadata": {},
      "outputs": [],
      "source": [
        "num1, num2 = 5, 6\n",
        "if(num1 < num2): print(\"num1 is less than num2\")"
      ]
    },
    {
      "cell_type": "code",
      "execution_count": null,
      "metadata": {},
      "outputs": [],
      "source": [
        "# Example: Checking if the value of first_number is less than second_number\n",
        "\n",
        "# Assume two numbers, first_number and second_number\n",
        "first_number, second_number = 5, 6\n",
        "\n",
        "# Check if the value of first_number is less than second_number\n",
        "if (first_number < second_number): print(first_number, \"is less than\" ,second_number)\n",
        "    # If the condition is true, print a message indicating that first_number is less than second_number"
      ]
    },
    {
      "cell_type": "markdown",
      "metadata": {
        "id": "Iq7CzVFs7mWT"
      },
      "source": [
        "## **Python if-else statement**"
      ]
    },
    {
      "cell_type": "code",
      "execution_count": null,
      "metadata": {},
      "outputs": [],
      "source": [
        "# Example: Checking different cases based on the value of 'comparison_value'\n",
        "\n",
        "# Assume a comparison value 'comparison_value'\n",
        "comparison_value = 1\n",
        "\n",
        "# Check if the comparison value is greater than 3\n",
        "if comparison_value > 3:\n",
        "    # If the condition is true, print a message indicating Case 1\n",
        "    print(\"Case 1: The value is greater than 3\")\n",
        "\n",
        "# Check if the comparison value is less than or equal to 3\n",
        "if comparison_value <= 3:\n",
        "    # If the condition is true, print a message indicating Case 2\n",
        "    print(\"Case 2: The value is less than or equal to 3\")"
      ]
    },
    {
      "cell_type": "markdown",
      "metadata": {},
      "source": [
        "The if-else statement checks the condition and executes the if block of code when the condition is True, and if the condition is False, it will execute the else block of code."
      ]
    },
    {
      "cell_type": "markdown",
      "metadata": {},
      "source": [
        "Syntax :\n",
        "  \n",
        "  if condition:\n",
        "\n",
        "      statement 1\n",
        "\n",
        "  else:\n",
        "\n",
        "      statement 2"
      ]
    },
    {
      "cell_type": "markdown",
      "metadata": {},
      "source": [
        "if..else statement evaluates condition and will execute the body of if only\n",
        "when the test condition is True.\n",
        "\n",
        "If the condition is False, the body of else is executed. Indentation is used to separate the blocks."
      ]
    },
    {
      "cell_type": "code",
      "execution_count": null,
      "metadata": {},
      "outputs": [],
      "source": [
        "# Example: Checking if a student passed or failed based on the 'student_grade'\n",
        "\n",
        "# Assume the student's grade\n",
        "student_grade = 60\n",
        "\n",
        "# Check if the student's grade is greater than or equal to the passing threshold\n",
        "if student_grade >= 65:\n",
        "    # If the condition is true, print a message indicating a passing grade\n",
        "    print(\"Student has scored Passing grade\")\n",
        "else:\n",
        "    # If the condition is false, print a message indicating a failing grade\n",
        "    print(\"Student has scored Failing grade\")"
      ]
    },
    {
      "cell_type": "code",
      "execution_count": null,
      "metadata": {},
      "outputs": [],
      "source": [
        "# Example: Checking if a number is positive, negative, or zero and displaying an appropriate message\n",
        "\n",
        "#Prompt the user to enter a number\n",
        "given_number = input(\"Please enter any number: \")\n",
        "\n",
        "# Uncomment and try these two variations as well.\n",
        "# given_number = -5\n",
        "# given_number = 0\n",
        "\n",
        "# Check if the given number is greater than or equal to 0\n",
        "if int(given_number) > 0:\n",
        "    # If the condition is true, print a message indicating a positive number or zero\n",
        "    print(given_number, \"is Positive\")\n",
        "elif int(given_number) == 0:\n",
        "        print(given_number, \"is zero\")\n",
        "else:\n",
        "    # If the condition is false, print a message indicating a negative number\n",
        "    print(given_number, \"is a Negative number\")"
      ]
    },
    {
      "cell_type": "code",
      "execution_count": null,
      "metadata": {
        "colab": {
          "base_uri": "https://localhost:8080/"
        },
        "id": "dGz-83pN7oxe",
        "outputId": "01cd71cf-6af3-464a-dcc1-8c21be5e092c"
      },
      "outputs": [],
      "source": [
        "# login program and indentation\n",
        "# email -> kaleem11212@gmail.com\n",
        "# password -> 1234\n",
        "\n",
        "email = input('enter email')\n",
        "password = input('enter password')\n",
        "\n",
        "if email == 'kaleem11212@gmail.com' and password == '1234':\n",
        "  print('Welcome')\n",
        "elif email == 'kaleem11212@gmail.com' and password != '1234':\n",
        "  # tell the user\n",
        "  print('Incorrect password')\n",
        "  password = input('enter password again')\n",
        "  if password == '1234':\n",
        "    print('Welcome,finally!')\n",
        "  else:\n",
        "    print('beta tu rehny de!')\n",
        "else:\n",
        "  print('Not correct')"
      ]
    },
    {
      "cell_type": "markdown",
      "metadata": {},
      "source": [
        "### if-else examples\n",
        "### 1. Find the min of 3 given numbers\n",
        "### 2. Menu Driven Program"
      ]
    },
    {
      "cell_type": "code",
      "execution_count": null,
      "metadata": {
        "colab": {
          "base_uri": "https://localhost:8080/"
        },
        "id": "gQpTJbMH3W6_",
        "outputId": "3a2ff0d1-a8d2-4b41-eb50-49612c57b612"
      },
      "outputs": [],
      "source": [
        "# min of 3 number\n",
        "\n",
        "a = int(input('first num'))\n",
        "b = int(input('second num'))\n",
        "c = int(input('third num'))\n",
        "\n",
        "if a<b and a<c:\n",
        "  print('smallest is',a)\n",
        "elif b<c:\n",
        "  print('smallest is',b)\n",
        "else:\n",
        "  print('smallest is',c)"
      ]
    },
    {
      "cell_type": "code",
      "execution_count": null,
      "metadata": {},
      "outputs": [],
      "source": [
        "# Menu driven calculator\n",
        "num1= int(input(\"Enter the first number\"))\n",
        "num2= int(input(\"Enter the second number\"))\n",
        "\n",
        "op= input(\"Enter the operatiobn\")\n",
        "\n",
        "if op == '+':\n",
        "    print(num1 + num2)\n",
        "elif op == '-':\n",
        "    print(num1 - num2)\n",
        "elif op == '*':\n",
        "    print(num1 * num2)\n",
        "elif op == '/':\n",
        "    print(num1 / num2)\n",
        "else:\n",
        "    print(\"Invalid operation\")"
      ]
    },
    {
      "cell_type": "code",
      "execution_count": null,
      "metadata": {
        "colab": {
          "base_uri": "https://localhost:8080/"
        },
        "id": "hgNqlC5C4jqF",
        "outputId": "d9a4e001-985d-46fe-fdf4-2767dde7d340"
      },
      "outputs": [],
      "source": [
        "# menu driven calculator\n",
        "menu = input(\"\"\"\n",
        "Hi! how can I help you.\n",
        "1. Enter 1 for pin change\n",
        "2. Enter 2 for balance check\n",
        "3. Enter 3 for withdrawl\n",
        "4. Enter 4 for exit\n",
        "\"\"\")\n",
        "\n",
        "if menu == '1':\n",
        "  print('pin change')\n",
        "elif menu == '2':\n",
        "  print('balance')\n",
        "else:\n",
        "  print('exit')"
      ]
    },
    {
      "cell_type": "markdown",
      "metadata": {
        "id": "2Ow6_gWG7ukc"
      },
      "source": [
        "## **What is Loop ?**\n",
        "\n",
        "A loop is a programming concept that allows for the **repetition** of a set of **instructions multiple times**."
      ]
    },
    {
      "cell_type": "markdown",
      "metadata": {},
      "source": [
        "# **Python - For Loops**\n",
        "A for loop is used for iterating over a sequence (that is either a list, a tuple, a dictionary, a set, or a string).\n",
        "\n",
        "you'll learn to iterate over a sequence of elements using the different variations of for loop. We use a for loop when we want to repeat a code block for a fixed number of times."
      ]
    },
    {
      "cell_type": "markdown",
      "metadata": {},
      "source": [
        "## **Why use for loop?**\n",
        "\n",
        "\n",
        "**Definite Iteration**: When we know how many times we wanted to run a loop, then we use count-controlled loops such as for loops. It is also known as definite iteration. For example, Calculate the percentage of 50 students. here we know we need to iterate a loop 50 times (1 iteration for each student).\n",
        "\n",
        "\n",
        "**Reduces the code’s complexity**: Loop repeats a specific block of code a fixed number of times. It reduces the repetition of lines of code, thus reducing the complexity of the code. Using for loops and while loops we can automate and repeat tasks in an efficient manner.\n",
        "\n",
        "\n",
        "**Loop through sequences**: used for iterating over lists, strings, tuples, dictionaries, etc., and perform various operations on it, based on the conditions specified by the user."
      ]
    },
    {
      "cell_type": "code",
      "execution_count": null,
      "metadata": {},
      "outputs": [],
      "source": [
        "# print the Hello World using the print statement\n",
        "print(\" Hello World\")\n",
        "print(\" Hello World\")\n",
        "print(\" Hello World\")\n",
        "print(\" Hello World\")\n",
        "print(\" Hello World\")\n",
        "print(\" Hello World\")\n",
        "print(\" Hello World\")\n",
        "print(\" Hello World\")\n",
        "print(\" Hello World\")\n",
        "print(\" Hello World\")"
      ]
    },
    {
      "cell_type": "code",
      "execution_count": null,
      "metadata": {},
      "outputs": [],
      "source": [
        "# print the string specific number of times\n",
        "for i in range(10):\n",
        "  print(\"Hello World\")"
      ]
    },
    {
      "cell_type": "markdown",
      "metadata": {},
      "source": [
        "Syntax :\n",
        "\n",
        "for element in sequence:\n",
        "\n",
        "    body of for loop"
      ]
    },
    {
      "cell_type": "markdown",
      "metadata": {},
      "source": [
        "First, element is the variable that takes the value of the item inside the sequence on each iteration.\n",
        "\n",
        "Second, all the statements in the body of the for loop are executed with the same value. The body of for loop is separated from the rest of the code using indentation.\n",
        "\n",
        "Finally, loop continues until we reach the last item in the sequence. The body of for loop is separated from the rest of the code using indentation."
      ]
    },
    {
      "cell_type": "code",
      "execution_count": null,
      "metadata": {},
      "outputs": [],
      "source": [
        "# For loop \n",
        "for i in range(10):\n",
        "  print(i)"
      ]
    },
    {
      "cell_type": "code",
      "execution_count": null,
      "metadata": {},
      "outputs": [],
      "source": [
        "for i in range(1,10):\n",
        "  print(i)"
      ]
    },
    {
      "cell_type": "code",
      "execution_count": null,
      "metadata": {},
      "outputs": [],
      "source": [
        "for i in range(1,11,2):\n",
        "  print(i)"
      ]
    },
    {
      "cell_type": "code",
      "execution_count": null,
      "metadata": {},
      "outputs": [],
      "source": [
        "for i in range(10,0,-1):\n",
        "  print(i)"
      ]
    },
    {
      "cell_type": "code",
      "execution_count": null,
      "metadata": {},
      "outputs": [],
      "source": [
        "for i in 'Lahore':\n",
        "  print(i)"
      ]
    },
    {
      "cell_type": "code",
      "execution_count": null,
      "metadata": {},
      "outputs": [],
      "source": [
        "for i in {1,2,3,4,5}:\n",
        "  print(i)"
      ]
    },
    {
      "cell_type": "code",
      "execution_count": null,
      "metadata": {},
      "outputs": [],
      "source": [
        "# Example : Iterating through a list of words using a for loop\n",
        "\n",
        "# Assume a list of words\n",
        "number_list = ['one', 'two', 'three', 'four', 'five']\n",
        "\n",
        "# Iterate through each word in the list\n",
        "for number in number_list:\n",
        "    # Print each word\n",
        "    print(number)"
      ]
    },
    {
      "cell_type": "code",
      "execution_count": null,
      "metadata": {},
      "outputs": [],
      "source": [
        "# Example : Calculating the average of a list of numbers\n",
        "\n",
        "# Assume a list of numbers\n",
        "number_list = [10, 20, 30, 40, 50]\n",
        "\n",
        "# Initialize variables for sum and list size\n",
        "total_sum = 0\n",
        "list_size = len(number_list)\n",
        "\n",
        "# Iterate through each number in the list\n",
        "for num in number_list:\n",
        "    # Accumulate the sum of numbers\n",
        "    total_sum = total_sum + num\n",
        "    print(total_sum)\n",
        "    # total_sum += num\n",
        "\n",
        "# Calculate the average by dividing the sum by the number of items in the list\n",
        "average = total_sum / list_size\n",
        "\n",
        "# Print the calculated average\n",
        "print(\"The average of the numbers is:\", average)"
      ]
    },
    {
      "cell_type": "markdown",
      "metadata": {},
      "source": [
        "# **The range() function**\n",
        "In most cases, we will want to loop through a predetermined list. However, we can also generate a list to loop over \"on the fly\" with the range() function"
      ]
    },
    {
      "cell_type": "code",
      "execution_count": null,
      "metadata": {},
      "outputs": [],
      "source": [
        "for i in range(8):\n",
        "    print(i)"
      ]
    },
    {
      "cell_type": "code",
      "execution_count": null,
      "metadata": {},
      "outputs": [],
      "source": [
        "# Printing Numbers\n",
        "for num in range(1, 6):\n",
        "    print(num)"
      ]
    },
    {
      "cell_type": "code",
      "execution_count": null,
      "metadata": {},
      "outputs": [],
      "source": [
        "# Using the For  loop to print the Items of list and their index\n",
        "my_list = [10, 20, 30, 40, 50, 60]\n",
        "for i in range(len(my_list)):\n",
        "    print(i, my_list[i])"
      ]
    },
    {
      "cell_type": "markdown",
      "metadata": {},
      "source": [
        "### Program - The current population of a town is 10000. The population of the town is increasing at the rate of 10% per year. You have to write a program to find out the population at the end of each of the last 10 years."
      ]
    },
    {
      "cell_type": "code",
      "execution_count": null,
      "metadata": {},
      "outputs": [],
      "source": [
        "curr_pop = 10000\n",
        "\n",
        "for i in range(0,11,1):\n",
        "  print(i,curr_pop)\n",
        "  curr_pop = curr_pop - 0.1*curr_pop"
      ]
    },
    {
      "cell_type": "markdown",
      "metadata": {},
      "source": [
        "# Python `while` Loop\n",
        "\n",
        "Loops are used in programming to repeat a specific block of code. In this article, you will learn to create a **`while`** loop in Python. We use a **`while`** loop when we want to repeat a code block."
      ]
    },
    {
      "cell_type": "markdown",
      "metadata": {},
      "source": [
        "## What is `while` loop in Python?\n",
        "\n",
        "The **`while`** loop in Python is used to iterate over a block of code as long as the  expression/condition is **`True`**. When the condition becomes **`False`**, execution comes out of the loop immediately, and the first statement after the **`while`** loop is executed.\n",
        "\n",
        "We generally use this loop when we don't know the number of times to iterate beforehand.\n",
        "\n",
        "Python interprets any non-zero value as **`True`**. **`None`** and **`0`** are interpreted as **`False`**."
      ]
    },
    {
      "cell_type": "markdown",
      "metadata": {},
      "source": [
        "## Why and When to use `while` loop in Python\n",
        "\n",
        "Now, the question might arise: when do we use a **`while`** loop, and why do we use it.\n",
        "\n",
        "* **Automate and repeat tasks:** As we know, **`while`** loops execute blocks of code over and over again until the condition is met it allows us to automate and repeat tasks in an efficient manner.\n",
        "* **Indefinite Iteration:**The **`while`** loop will run as often as necessary to complete a particular task. When the user doesn’t know the number of iterations before execution, **`while`** loop is used instead of a loop\n",
        "* **Reduce complexity:** **`while`** loop is easy to write. using the loop, we don’t need to write the statements again and again. Instead, we can write statements we wanted to execute again and again inside the body of the loop thus, reducing the complexity of the code\n",
        "* **Infinite loop:** If the code inside the **`while`** loop doesn’t modify the variables being tested in the loop condition, the loop will run forever."
      ]
    },
    {
      "cell_type": "markdown",
      "metadata": {},
      "source": [
        "### Syntax:\n",
        "\n",
        "```python\n",
        "while condition:\n",
        "    body of while loop\n",
        "```\n",
        "1. In the **`while`** loop, expression/condition is checked first.\n",
        "2. The body of the loop is entered only if the expression/condition evaluates to **`True`**.\n",
        "3. After one iteration, the expression/condition is checked again. This process continues until the test_expression evaluates to **`False`**.\n",
        "\n",
        "\n",
        "\n",
        "**Note:** An infinite loop occurs when a program keeps executing within one loop, never leaving it. To exit out of infinite loops on the command line, press **CTRL + C**."
      ]
    },
    {
      "cell_type": "code",
      "execution_count": null,
      "metadata": {},
      "outputs": [],
      "source": [
        "# Example: Printing numbers as long as they are less than 60 using a while loop\n",
        "\n",
        "# Initialize a counter variable\n",
        "current_number = 1\n",
        "\n",
        "# Continue looping as long as the current number is less than or equal to 60\n",
        "while current_number <= 60:\n",
        "    # Print the current number\n",
        "    print(current_number)\n",
        "\n",
        "    # Increment the current number by 1 in each iteration\n",
        "    current_number = current_number + 1\n",
        "    # current_number +=1   # this can also be used"
      ]
    },
    {
      "cell_type": "code",
      "execution_count": null,
      "metadata": {},
      "outputs": [],
      "source": [
        "# Example : Using a while loop to print \"Hello\" multiple times\n",
        "\n",
        "# Initialize a counter variable\n",
        "loop_counter = 0\n",
        "\n",
        "# Continue the loop as long as the counter is less than 3\n",
        "while loop_counter < 3:\n",
        "    # Print the message along with the current count\n",
        "    print(\"Print hello\", loop_counter)\n",
        "\n",
        "    # Increment the counter by 1 in each iteration\n",
        "    loop_counter = loop_counter + 1"
      ]
    },
    {
      "cell_type": "code",
      "execution_count": null,
      "metadata": {},
      "outputs": [],
      "source": [
        "# Example: Calculate how many times a given number can be divided by 3 before it is less than or equal to 10.\n",
        "\n",
        "# Initialize the counter for the number of iterations\n",
        "iteration_count = 0\n",
        "\n",
        "# Set the initial value of the number to be divided\n",
        "given_number = 180\n",
        "\n",
        "# Continue the loop while the number is greater than 10\n",
        "while given_number > 10:\n",
        "    # Divide the number by 3\n",
        "    given_number = given_number / 3\n",
        "\n",
        "    # Increase the count of iterations\n",
        "    iteration_count = iteration_count + 1\n",
        "\n",
        "# Print the total number of iterations required\n",
        "print('Total iterations required:', iteration_count)"
      ]
    },
    {
      "cell_type": "code",
      "execution_count": null,
      "metadata": {},
      "outputs": [],
      "source": [
        "# Example: Program to add natural numbers up to sum = 1+2+3+...+n\n",
        "\n",
        "# To take input from the user,\n",
        "# n = int(input(\"Enter n: \"))\n",
        "\n",
        "n = 10\n",
        "\n",
        "# initialize sum and counter\n",
        "sum = 0\n",
        "i = 1\n",
        "\n",
        "while i <= n:\n",
        "    sum = sum + i\n",
        "    i = i+1    # update counter, i.e., the value of i will change from 1 to 2 in next iteration...\n",
        "\n",
        "# print the sum\n",
        "print(\"The sum is\", sum)"
      ]
    },
    {
      "cell_type": "markdown",
      "metadata": {},
      "source": [
        "## `while` loop with `if-else`\n",
        "\n",
        "A **`while`** loop can have an optional block. We use **`if-else`** statement in the loop when conditional iteration is needed. i.e., If the condition is **`True`**, then the statements inside the if block will execute othwerwise, the else block will execute."
      ]
    },
    {
      "cell_type": "code",
      "execution_count": null,
      "metadata": {},
      "outputs": [],
      "source": [
        "# Example: Print even and odd numbers between 1 and the entered number.\n",
        "\n",
        "# Get user input for the upper limit\n",
        "user_number = int(input('Please Enter a Number: '))\n",
        "\n",
        "# Start the loop while the entered number is greater than 0\n",
        "while user_number > 0:\n",
        "    # Check if the current number is even or odd\n",
        "    if user_number % 2 == 0:\n",
        "        print(user_number, 'is an even number')\n",
        "    else:\n",
        "        print(user_number, 'is an odd number')\n",
        "\n",
        "    # Decrease the number by 1 in each iteration\n",
        "    user_number = user_number - 1"
      ]
    },
    {
      "cell_type": "code",
      "execution_count": null,
      "metadata": {},
      "outputs": [],
      "source": [
        "# Example: User Input Validation for a Password\n",
        "\n",
        "# Initialize an empty string for the user's password\n",
        "user_password = \"\"\n",
        "\n",
        "# Continue prompting for the password until it matches the expected password \"secret\"\n",
        "while user_password != \"secret\":\n",
        "    # Take user input for the password\n",
        "    user_password = input(\"Enter the password: \")\n",
        "\n",
        "    # Check if the entered password is correct\n",
        "    if user_password == \"secret\":\n",
        "        # If the password is correct, grant access\n",
        "        print(\"Access granted!\")\n",
        "    else:\n",
        "        # If the password is incorrect, deny access\n",
        "        print(\"Access denied!\")"
      ]
    },
    {
      "cell_type": "code",
      "execution_count": null,
      "metadata": {},
      "outputs": [],
      "source": [
        "# Example : Summing Numbers from 1 to 10 using a while loop\n",
        "\n",
        "# Initialize a variable to store the running total\n",
        "sum_of_numbers = 0\n",
        "\n",
        "# Start with the first number\n",
        "current_number = 1\n",
        "\n",
        "# Continue adding numbers to the total as long as the current number is less than or equal to 10\n",
        "while current_number <= 10:\n",
        "    # Add the current number to the running total\n",
        "    sum_of_numbers = sum_of_numbers + current_number\n",
        "\n",
        "    # Increment the current number by 1 in each iteration\n",
        "    current_number = current_number + 1\n",
        "\n",
        "# Print the final sum\n",
        "print(\"The sum is:\", sum_of_numbers)"
      ]
    },
    {
      "cell_type": "code",
      "execution_count": null,
      "metadata": {
        "id": "Ig7NIb7L7txg"
      },
      "outputs": [],
      "source": [
        "# While loop example -> program to print the table\n",
        "# Program -> Sum of all digits of a given number\n",
        "# Program -> keep accepting numbers from users till he/she enters a 0 and then find the avg"
      ]
    },
    {
      "cell_type": "code",
      "execution_count": null,
      "metadata": {},
      "outputs": [],
      "source": [
        "number = int(input('enter the number'))\n",
        "i = 1\n",
        "while i<11:\n",
        "  print(number * i)\n",
        "  i += 1"
      ]
    },
    {
      "cell_type": "code",
      "execution_count": null,
      "metadata": {
        "colab": {
          "base_uri": "https://localhost:8080/"
        },
        "id": "brWSxgiu9rrQ",
        "outputId": "eb64e76c-ee60-4584-9d00-9fd6729d39e8"
      },
      "outputs": [],
      "source": [
        "number = int(input('enter the number'))\n",
        "i = 1\n",
        "while i<11:\n",
        "  print(number,'*',i,'=',number * i)\n",
        "  i += 1"
      ]
    },
    {
      "cell_type": "code",
      "execution_count": null,
      "metadata": {
        "colab": {
          "base_uri": "https://localhost:8080/"
        },
        "id": "Ltsr9n3H73fp",
        "outputId": "a47f2a11-bf75-4a0a-923c-49f318514900"
      },
      "outputs": [],
      "source": [
        "# while loop with else\n",
        "\n",
        "x = 1\n",
        "while x < 3:\n",
        "  print(x)\n",
        "  x += 1\n",
        "else:\n",
        "  print('limit crossed')"
      ]
    },
    {
      "cell_type": "code",
      "execution_count": null,
      "metadata": {
        "colab": {
          "base_uri": "https://localhost:8080/"
        },
        "id": "29y5r2cr8MRP",
        "outputId": "c4d707ce-6f6c-49cc-8997-a85ecf01e74e"
      },
      "outputs": [],
      "source": [
        "# Guessing game\n",
        "\n",
        "# generate a random integer between 1 and 100\n",
        "import random\n",
        "jackpot = random.randint(1,100)\n",
        "\n",
        "guess = int(input('guess karo'))\n",
        "counter = 1\n",
        "while guess != jackpot:\n",
        "  if guess < jackpot:\n",
        "    print('galat!guess higher')\n",
        "  else:\n",
        "    print('galat!guess lower')\n",
        "\n",
        "  guess = int(input('guess karo'))\n",
        "  counter += 1\n",
        "\n",
        "else:\n",
        "  print('correct guess')\n",
        "  print('attempts',counter)\n",
        "\n",
        "\n"
      ]
    },
    {
      "cell_type": "markdown",
      "metadata": {
        "id": "1bdP8FTX87Du"
      },
      "source": [
        "# Nested Loops"
      ]
    },
    {
      "cell_type": "code",
      "execution_count": null,
      "metadata": {
        "id": "-YY5edV98lXq"
      },
      "outputs": [],
      "source": [
        "# Examples\n",
        "for i in range(1,5):\n",
        "  for j in range(1,5):\n",
        "    print(i,j)"
      ]
    },
    {
      "cell_type": "code",
      "execution_count": null,
      "metadata": {
        "id": "Ym8nRkqxGXLN"
      },
      "outputs": [],
      "source": [
        "# Program - Unique combination of 1,2,3,4\n",
        "# Program - Pattern 1 and 2"
      ]
    },
    {
      "cell_type": "markdown",
      "metadata": {
        "id": "_Hz8L0f3c_3P"
      },
      "source": [
        "### Pattern 1\n",
        "\n",
        "\n",
        "*** <br>\n",
        "**** <br>\n",
        "***<br>\n"
      ]
    },
    {
      "cell_type": "code",
      "execution_count": null,
      "metadata": {
        "id": "YsL_YmxRdNrn"
      },
      "outputs": [],
      "source": [
        "rows = int(input('enter number of rows'))\n",
        "\n",
        "for i in range(1,rows+1):\n",
        "  for j in range(1,i+1):\n",
        "    print('*',end='')\n",
        "  print()"
      ]
    },
    {
      "cell_type": "markdown",
      "metadata": {
        "id": "eVAO3tVmdOWV"
      },
      "source": [
        "### Pattern 2\n",
        "\n",
        "1<br>\n",
        "121<br>\n",
        "12321<br>\n",
        "1234321<br>"
      ]
    },
    {
      "cell_type": "code",
      "execution_count": null,
      "metadata": {
        "id": "sHW4YJqcdXzw"
      },
      "outputs": [],
      "source": [
        "rows = int(input('enter number of rows'))\n",
        "\n",
        "for i in range(1,rows+1):\n",
        "  for j in range(1,i+1):\n",
        "    print(j,end='')\n",
        "  for k in range(i-1,0,-1):\n",
        "    print(k,end='')\n",
        "\n",
        "  print()"
      ]
    },
    {
      "cell_type": "markdown",
      "metadata": {
        "id": "8GccSRIt891U"
      },
      "source": [
        "# Loop Control Statement\n",
        "\n",
        "- Break\n",
        "- Continue\n",
        "- Pass"
      ]
    },
    {
      "cell_type": "code",
      "execution_count": null,
      "metadata": {
        "id": "kN9s2dG89DlJ"
      },
      "outputs": [],
      "source": [
        "# Break demo\n",
        "for i in range(1,10):\n",
        "  if i == 5:\n",
        "    break\n",
        "  print(i)"
      ]
    },
    {
      "cell_type": "code",
      "execution_count": null,
      "metadata": {
        "id": "u09EdMCm9FK_"
      },
      "outputs": [],
      "source": [
        "# Break example (Linear Search) -> Prime number in a given range\n",
        "lower = int(input('enter lower range'))\n",
        "upper = int(input('enter upper range'))\n",
        "\n",
        "for i in range(lower,upper+1):\n",
        "  for j in range(2,i):\n",
        "    if i%j == 0:\n",
        "      break\n",
        "  else:\n",
        "    print(i)"
      ]
    },
    {
      "cell_type": "code",
      "execution_count": null,
      "metadata": {
        "id": "3q5asa2l9GYy"
      },
      "outputs": [],
      "source": [
        "# Continue demo\n",
        "for i in range(1,10):\n",
        "  if i == 5:\n",
        "    continue\n",
        "  print(i)"
      ]
    },
    {
      "cell_type": "code",
      "execution_count": null,
      "metadata": {
        "id": "P7GB16j59J-3"
      },
      "outputs": [],
      "source": [
        "# Pass demo\n",
        "for i in range(1,10):\n",
        "  pass"
      ]
    }
  ],
  "metadata": {
    "colab": {
      "provenance": []
    },
    "kernelspec": {
      "display_name": "Python 3",
      "name": "python3"
    },
    "language_info": {
      "codemirror_mode": {
        "name": "ipython",
        "version": 3
      },
      "file_extension": ".py",
      "mimetype": "text/x-python",
      "name": "python",
      "nbconvert_exporter": "python",
      "pygments_lexer": "ipython3",
      "version": "3.11.5"
    }
  },
  "nbformat": 4,
  "nbformat_minor": 0
}
